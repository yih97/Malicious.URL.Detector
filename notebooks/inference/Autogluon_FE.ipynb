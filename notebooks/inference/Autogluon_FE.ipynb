{
 "cells": [
  {
   "metadata": {
    "ExecuteTime": {
     "end_time": "2025-02-24T03:10:21.264487Z",
     "start_time": "2025-02-24T03:10:18.644943Z"
    }
   },
   "cell_type": "code",
   "source": [
    "import pandas as pd\n",
    "import numpy as np\n",
    "import warnings\n",
    "from sklearn.utils.class_weight import compute_class_weight\n",
    "from autogluon.multimodal import MultiModalPredictor\n",
    "\n",
    "warnings.filterwarnings('ignore')\n"
   ],
   "id": "8ba34e8ec13fc339",
   "outputs": [],
   "execution_count": 1
  },
  {
   "metadata": {
    "ExecuteTime": {
     "end_time": "2025-02-24T03:10:25.926460Z",
     "start_time": "2025-02-24T03:10:21.270499Z"
    }
   },
   "cell_type": "code",
   "source": [
    "# 데이터를 CSV 파일에서 읽어옵니다.\n",
    "try:\n",
    "    final_train = pd.read_csv('../../data/preprocessed_data/final_train.csv')\n",
    "    final_test = pd.read_csv('../../data/preprocessed_data/final_test.csv')\n",
    "    print(\"데이터 로드 성공.\")\n",
    "except Exception as e:\n",
    "    print(\"데이터 로드 에러:\", e)\n",
    "    final_train = pd.DataFrame()\n",
    "    final_test = pd.DataFrame()\n"
   ],
   "id": "d36f133bc5d1242b",
   "outputs": [
    {
     "name": "stdout",
     "output_type": "stream",
     "text": [
      "데이터 로드 성공.\n"
     ]
    }
   ],
   "execution_count": 2
  },
  {
   "metadata": {
    "ExecuteTime": {
     "end_time": "2025-02-24T03:10:25.966921Z",
     "start_time": "2025-02-24T03:10:25.964946Z"
    }
   },
   "cell_type": "code",
   "source": [
    "# 각 컬럼의 타입을 지정합니다.\n",
    "try:\n",
    "    column_types = {\n",
    "       'URL': 'text',\n",
    "       'label': 'categorical',\n",
    "       'digit_ratio': 'numerical',\n",
    "       'special_char_count': 'numerical',\n",
    "       'subdomain_count': 'numerical',\n",
    "       'length': 'numerical'\n",
    "    }\n",
    "    print(\"컬럼 타입 설정 성공.\")\n",
    "except Exception as e:\n",
    "    print(\"컬럼 타입 설정 에러:\", e)\n",
    "    column_types = {}\n"
   ],
   "id": "8e55a4088d6c63bc",
   "outputs": [
    {
     "name": "stdout",
     "output_type": "stream",
     "text": [
      "컬럼 타입 설정 성공.\n"
     ]
    }
   ],
   "execution_count": 3
  },
  {
   "metadata": {
    "ExecuteTime": {
     "end_time": "2025-02-24T03:10:26.434613Z",
     "start_time": "2025-02-24T03:10:26.010964Z"
    }
   },
   "cell_type": "code",
   "source": [
    "# train 데이터의 'label' 컬럼을 기준으로 클래스 가중치를 계산하고 정규화합니다.\n",
    "try:\n",
    "    weights = compute_class_weight(\n",
    "       class_weight='balanced',\n",
    "       classes=np.unique(final_train['label']),\n",
    "       y=final_train['label'].values\n",
    "    )\n",
    "    weights = weights / weights.sum()  # 가중치 정규화 (합계 1)\n",
    "    weights = list(weights)\n",
    "    print(\"\\n계산된 클래스 가중치:\", weights)\n",
    "except Exception as e:\n",
    "    print(\"클래스 가중치 계산 에러:\", e)\n",
    "    weights = []\n"
   ],
   "id": "8971ffa686c94c8",
   "outputs": [
    {
     "name": "stdout",
     "output_type": "stream",
     "text": [
      "\n",
      "계산된 클래스 가중치: [0.2237147207970887, 0.7762852792029113]\n"
     ]
    }
   ],
   "execution_count": 4
  },
  {
   "metadata": {
    "ExecuteTime": {
     "end_time": "2025-02-24T03:10:26.441988Z",
     "start_time": "2025-02-24T03:10:26.440068Z"
    }
   },
   "cell_type": "code",
   "source": [
    "# AutoGluon MultiModalPredictor를 생성합니다.\n",
    "try:\n",
    "    predictor = MultiModalPredictor(\n",
    "       label='label',\n",
    "       problem_type='binary',\n",
    "       eval_metric='roc_auc',\n",
    "       validation_metric='roc_auc'\n",
    "    )\n",
    "    print(\"Predictor 생성 성공.\")\n",
    "except Exception as e:\n",
    "    print(\"MultiModalPredictor 생성 에러:\", e)\n",
    "    predictor = None\n"
   ],
   "id": "ce5b796dfa6aa831",
   "outputs": [
    {
     "name": "stdout",
     "output_type": "stream",
     "text": [
      "Predictor 생성 성공.\n"
     ]
    }
   ],
   "execution_count": 5
  },
  {
   "metadata": {
    "jupyter": {
     "is_executing": true
    },
    "ExecuteTime": {
     "start_time": "2025-02-24T03:10:26.484135Z"
    }
   },
   "cell_type": "code",
   "source": [
    "# train 데이터를 사용하여 모델을 학습시킵니다.\n",
    "try:\n",
    "    if predictor is not None:\n",
    "        predictor.fit(\n",
    "           train_data=final_train,\n",
    "           column_types=column_types,\n",
    "           presets='best_quality',\n",
    "           time_limit=None,\n",
    "           seed=42,\n",
    "           hyperparameters={\n",
    "              \"model.hf_text.checkpoint_name\": \"r3ddkahili/final-complete-malicious-url-model\",\n",
    "              \"env.per_gpu_batch_size\": 64,\n",
    "              \"optimization.patience\": 5,\n",
    "              \"optimization.loss_function\": \"focal_loss\",\n",
    "              \"optimization.focal_loss.alpha\": weights,\n",
    "           }\n",
    "        )\n",
    "        print(\"모델 학습 완료.\")\n",
    "    else:\n",
    "        print(\"Predictor가 None입니다. 모델 학습 건너뜁니다.\")\n",
    "except Exception as e:\n",
    "    print(\"predictor.fit 실행 중 에러:\", e)\n"
   ],
   "id": "1d003f327fdb2ef2",
   "outputs": [
    {
     "name": "stderr",
     "output_type": "stream",
     "text": [
      "No path specified. Models will be saved in: \"AutogluonModels/ag-20250224_031026\"\n",
      "=================== System Info ===================\n",
      "AutoGluon Version:  1.2\n",
      "Python Version:     3.10.12\n",
      "Operating System:   Linux\n",
      "Platform Machine:   x86_64\n",
      "Platform Version:   #53~22.04.1-Ubuntu SMP PREEMPT_DYNAMIC Wed Jan 15 19:18:46 UTC 2\n",
      "CPU Count:          24\n",
      "Pytorch Version:    2.5.1+cu124\n",
      "CUDA Version:       12.4\n",
      "Memory Avail:       52.25 GB / 62.57 GB (83.5%)\n",
      "Disk Space Avail:   1530.74 GB / 1831.76 GB (83.6%)\n",
      "===================================================\n",
      "\n",
      "AutoMM starts to create your model. ✨✨✨\n",
      "\n",
      "To track the learning progress, you can open a terminal and launch Tensorboard:\n",
      "    ```shell\n",
      "    # Assume you have installed tensorboard\n",
      "    tensorboard --logdir /home/lh/Documents/Malicious.URL.Detector/notebooks/inference/AutogluonModels/ag-20250224_031026\n",
      "    ```\n",
      "\n",
      "Seed set to 42\n",
      "GPU Count: 1\n",
      "GPU Count to be Used: 1\n",
      "GPU 0 Name: NVIDIA GeForce RTX 3090 Ti\n",
      "GPU 0 Memory: 0.61GB/23.99GB (Used/Total)\n",
      "\n",
      "Using 16bit Automatic Mixed Precision (AMP)\n",
      "GPU available: True (cuda), used: True\n",
      "TPU available: False, using: 0 TPU cores\n",
      "HPU available: False, using: 0 HPUs\n",
      "You are using a CUDA device ('NVIDIA GeForce RTX 3090 Ti') that has Tensor Cores. To properly utilize them, you should set `torch.set_float32_matmul_precision('medium' | 'high')` which will trade-off precision for performance. For more details, read https://pytorch.org/docs/stable/generated/torch.set_float32_matmul_precision.html#torch.set_float32_matmul_precision\n",
      "LOCAL_RANK: 0 - CUDA_VISIBLE_DEVICES: [0]\n",
      "\n",
      "  | Name              | Type                | Params | Mode \n",
      "------------------------------------------------------------------\n",
      "0 | model             | MultimodalFusionMLP | 111 M  | train\n",
      "1 | validation_metric | BinaryAUROC         | 0      | train\n",
      "2 | loss_func         | FocalLoss           | 0      | train\n",
      "------------------------------------------------------------------\n",
      "111 M     Trainable params\n",
      "0         Non-trainable params\n",
      "111 M     Total params\n",
      "444.971   Total estimated model params size (MB)\n",
      "82        Modules in train mode\n",
      "228       Modules in eval mode\n"
     ]
    },
    {
     "data": {
      "text/plain": [
       "Sanity Checking: |          | 0/? [00:00<?, ?it/s]"
      ],
      "application/vnd.jupyter.widget-view+json": {
       "version_major": 2,
       "version_minor": 0,
       "model_id": "33fb048305d9462cab27f2469c835e53"
      }
     },
     "metadata": {},
     "output_type": "display_data"
    },
    {
     "data": {
      "text/plain": [
       "Training: |          | 0/? [00:00<?, ?it/s]"
      ],
      "application/vnd.jupyter.widget-view+json": {
       "version_major": 2,
       "version_minor": 0,
       "model_id": "62a872a898364a8a8ac59d3e1b5cf203"
      }
     },
     "metadata": {},
     "output_type": "display_data"
    },
    {
     "data": {
      "text/plain": [
       "Validation: |          | 0/? [00:00<?, ?it/s]"
      ],
      "application/vnd.jupyter.widget-view+json": {
       "version_major": 2,
       "version_minor": 0,
       "model_id": "7b298a205f8d419eb397d271338ff858"
      }
     },
     "metadata": {},
     "output_type": "display_data"
    },
    {
     "name": "stderr",
     "output_type": "stream",
     "text": [
      "Epoch 0, global step 27051: 'val_roc_auc' reached 0.97931 (best 0.97931), saving model to '/home/lh/Documents/Malicious.URL.Detector/notebooks/inference/AutogluonModels/ag-20250224_031026/epoch=0-step=27051.ckpt' as top 3\n"
     ]
    },
    {
     "data": {
      "text/plain": [
       "Validation: |          | 0/? [00:00<?, ?it/s]"
      ],
      "application/vnd.jupyter.widget-view+json": {
       "version_major": 2,
       "version_minor": 0,
       "model_id": "c97666cf99ad42f0a9cad8fcebac71d1"
      }
     },
     "metadata": {},
     "output_type": "display_data"
    },
    {
     "name": "stderr",
     "output_type": "stream",
     "text": [
      "Epoch 0, global step 54102: 'val_roc_auc' reached 0.98090 (best 0.98090), saving model to '/home/lh/Documents/Malicious.URL.Detector/notebooks/inference/AutogluonModels/ag-20250224_031026/epoch=0-step=54102.ckpt' as top 3\n"
     ]
    }
   ],
   "execution_count": null
  },
  {
   "metadata": {},
   "cell_type": "code",
   "outputs": [],
   "execution_count": null,
   "source": [
    "# 학습된 모델을 사용하여 test 데이터에 대한 예측 확률을 계산합니다.\n",
    "try:\n",
    "    if predictor is not None:\n",
    "        test_pred_proba = predictor.predict_proba(final_test)\n",
    "        # 이진 분류의 경우, 클래스 1(악성 URL)의 확률 사용\n",
    "        if 1 in test_pred_proba.columns:\n",
    "            prediction_scores = test_pred_proba[1]\n",
    "        else:\n",
    "            prediction_scores = test_pred_proba.iloc[:, 1]\n",
    "        print(\"예측 완료.\")\n",
    "    else:\n",
    "        print(\"Predictor가 None입니다. 기본 0 예측값 사용.\")\n",
    "        prediction_scores = np.zeros(len(final_test))\n",
    "except Exception as e:\n",
    "    print(\"예측 실행 중 에러:\", e)\n",
    "    prediction_scores = np.zeros(len(final_test))\n"
   ],
   "id": "f49c76a1acb0a354"
  },
  {
   "metadata": {},
   "cell_type": "code",
   "outputs": [],
   "execution_count": null,
   "source": [
    "# 예측 결과를 기반으로 제출 파일을 생성합니다.\n",
    "try:\n",
    "    submission = pd.DataFrame({\n",
    "       'ID': final_test['ID'],\n",
    "       'probability': prediction_scores\n",
    "    })\n",
    "    submission.to_csv('../../submission/FE_multimodal2.csv', index=False)\n",
    "    print(\"\\n제출 파일 생성 완료.\")\n",
    "except Exception as e:\n",
    "    print(\"제출 파일 생성 에러:\", e)\n"
   ],
   "id": "2fb3ce687553456"
  }
 ],
 "metadata": {
  "kernelspec": {
   "name": "python3",
   "language": "python",
   "display_name": "Python 3 (ipykernel)"
  }
 },
 "nbformat": 5,
 "nbformat_minor": 9
}
