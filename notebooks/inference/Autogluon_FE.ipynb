{
 "cells": [
  {
   "metadata": {},
   "cell_type": "code",
   "outputs": [],
   "execution_count": null,
   "source": [
    "import pandas as pd\n",
    "import numpy as np\n",
    "import warnings\n",
    "from sklearn.utils.class_weight import compute_class_weight\n",
    "from autogluon.multimodal import MultiModalPredictor\n",
    "\n",
    "warnings.filterwarnings('ignore')\n"
   ],
   "id": "d4bb3d881e2635ac"
  },
  {
   "metadata": {},
   "cell_type": "code",
   "outputs": [],
   "execution_count": null,
   "source": [
    "# 데이터를 CSV 파일에서 읽어옵니다.\n",
    "try:\n",
    "    final_train = pd.read_csv('../../data/preprocessed_data/final_train.csv')\n",
    "    final_test = pd.read_csv('../../data/preprocessed_data/final_test.csv')\n",
    "    print(\"데이터 로드 성공.\")\n",
    "except Exception as e:\n",
    "    print(\"데이터 로드 에러:\", e)\n",
    "    final_train = pd.DataFrame()\n",
    "    final_test = pd.DataFrame()\n"
   ],
   "id": "cf66ef7867167fd6"
  },
  {
   "metadata": {},
   "cell_type": "code",
   "outputs": [],
   "execution_count": null,
   "source": [
    "# 각 컬럼의 타입을 지정합니다.\n",
    "try:\n",
    "    column_types = {\n",
    "       'URL': 'text',\n",
    "       'label': 'categorical',\n",
    "       'digit_ratio': 'numerical',\n",
    "       'special_char_count': 'numerical',\n",
    "       'subdomain_count': 'numerical',\n",
    "       'length': 'numerical'\n",
    "    }\n",
    "    print(\"컬럼 타입 설정 성공.\")\n",
    "except Exception as e:\n",
    "    print(\"컬럼 타입 설정 에러:\", e)\n",
    "    column_types = {}\n"
   ],
   "id": "7afdf548d017f2f"
  },
  {
   "metadata": {},
   "cell_type": "code",
   "outputs": [],
   "execution_count": null,
   "source": [
    "# train 데이터의 'label' 컬럼을 기준으로 클래스 가중치를 계산하고 정규화합니다.\n",
    "try:\n",
    "    weights = compute_class_weight(\n",
    "       class_weight='balanced',\n",
    "       classes=np.unique(final_train['label']),\n",
    "       y=final_train['label'].values\n",
    "    )\n",
    "    weights = weights / weights.sum()  # 가중치 정규화 (합계 1)\n",
    "    weights = list(weights)\n",
    "    print(\"\\n계산된 클래스 가중치:\", weights)\n",
    "except Exception as e:\n",
    "    print(\"클래스 가중치 계산 에러:\", e)\n",
    "    weights = []\n"
   ],
   "id": "d8d2abeb0e773e3a"
  },
  {
   "metadata": {},
   "cell_type": "code",
   "outputs": [],
   "execution_count": null,
   "source": [
    "# AutoGluon MultiModalPredictor를 생성합니다.\n",
    "try:\n",
    "    predictor = MultiModalPredictor(\n",
    "       label='label',\n",
    "       problem_type='binary',\n",
    "       eval_metric='roc_auc',\n",
    "       validation_metric='roc_auc'\n",
    "    )\n",
    "    print(\"Predictor 생성 성공.\")\n",
    "except Exception as e:\n",
    "    print(\"MultiModalPredictor 생성 에러:\", e)\n",
    "    predictor = None\n"
   ],
   "id": "fc01b09b173864e7"
  },
  {
   "metadata": {},
   "cell_type": "code",
   "outputs": [],
   "execution_count": null,
   "source": [
    "# train 데이터를 사용하여 모델을 학습시킵니다.\n",
    "try:\n",
    "    if predictor is not None:\n",
    "        predictor.fit(\n",
    "           train_data=final_train,\n",
    "           column_types=column_types,\n",
    "           presets='best_quality',\n",
    "           time_limit=None,\n",
    "           seed=42,\n",
    "           hyperparameters={\n",
    "              \"model.hf_text.checkpoint_name\": \"r3ddkahili/final-complete-malicious-url-model\",\n",
    "              \"env.per_gpu_batch_size\": 64,\n",
    "              \"optimization.patience\": 3,\n",
    "              \"optimization.loss_function\": \"focal_loss\",\n",
    "              \"optimization.focal_loss.alpha\": weights,\n",
    "           }\n",
    "        )\n",
    "        print(\"모델 학습 완료.\")\n",
    "    else:\n",
    "        print(\"Predictor가 None입니다. 모델 학습 건너뜁니다.\")\n",
    "except Exception as e:\n",
    "    print(\"predictor.fit 실행 중 에러:\", e)\n"
   ],
   "id": "3e1ae4397f82c5ef"
  },
  {
   "metadata": {},
   "cell_type": "code",
   "outputs": [],
   "execution_count": null,
   "source": [
    "# 학습된 모델을 사용하여 test 데이터에 대한 예측 확률을 계산합니다.\n",
    "try:\n",
    "    if predictor is not None:\n",
    "        test_pred_proba = predictor.predict_proba(final_test)\n",
    "        # 이진 분류의 경우, 클래스 1(악성 URL)의 확률 사용\n",
    "        if 1 in test_pred_proba.columns:\n",
    "            prediction_scores = test_pred_proba[1]\n",
    "        else:\n",
    "            prediction_scores = test_pred_proba.iloc[:, 1]\n",
    "        print(\"예측 완료.\")\n",
    "    else:\n",
    "        print(\"Predictor가 None입니다. 기본 0 예측값 사용.\")\n",
    "        prediction_scores = np.zeros(len(final_test))\n",
    "except Exception as e:\n",
    "    print(\"예측 실행 중 에러:\", e)\n",
    "    prediction_scores = np.zeros(len(final_test))\n"
   ],
   "id": "a70f38049f205979"
  },
  {
   "metadata": {},
   "cell_type": "code",
   "outputs": [],
   "execution_count": null,
   "source": [
    "# 예측 결과를 기반으로 제출 파일을 생성합니다.\n",
    "try:\n",
    "    submission = pd.DataFrame({\n",
    "       'ID': final_test['ID'],\n",
    "       'probability': prediction_scores\n",
    "    })\n",
    "    submission.to_csv('./submission/FE_multimodal.csv', index=False)\n",
    "    print(\"\\n제출 파일 생성 완료.\")\n",
    "except Exception as e:\n",
    "    print(\"제출 파일 생성 에러:\", e)\n"
   ],
   "id": "d48a85ee4353c1a4"
  }
 ],
 "metadata": {},
 "nbformat": 5,
 "nbformat_minor": 9
}
