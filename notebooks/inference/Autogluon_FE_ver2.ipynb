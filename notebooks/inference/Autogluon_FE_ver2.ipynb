{
 "cells": [
  {
   "metadata": {},
   "cell_type": "code",
   "outputs": [],
   "execution_count": null,
   "source": [
    "import pandas as pd\n",
    "import numpy as np\n",
    "import warnings\n",
    "from sklearn.utils.class_weight import compute_class_weight\n",
    "from autogluon.multimodal import MultiModalPredictor\n",
    "\n",
    "warnings.filterwarnings('ignore')\n"
   ],
   "id": "c8cdca4a701afaf"
  },
  {
   "metadata": {},
   "cell_type": "code",
   "outputs": [],
   "execution_count": null,
   "source": [
    "# 엔트로피 특성이 추가된 새 데이터를 CSV 파일에서 읽어옵니다.\n",
    "try:\n",
    "    final_train = pd.read_csv('../../data/preprocessed_data/final_train_with_entropy.csv')\n",
    "    final_test = pd.read_csv('../../data/preprocessed_data/final_test_with_entropy.csv')\n",
    "    print(\"데이터 로드 성공.\")\n",
    "except Exception as e:\n",
    "    print(\"데이터 로드 에러:\", e)\n",
    "    final_train = pd.DataFrame()\n",
    "    final_test = pd.DataFrame()\n"
   ],
   "id": "8f956f4b06f9fab0"
  },
  {
   "metadata": {},
   "cell_type": "code",
   "outputs": [],
   "execution_count": null,
   "source": [
    "# 각 컬럼의 타입을 지정합니다. 새로 추가된 엔트로피 특성도 포함시킵니다.\n",
    "try:\n",
    "    # 기존 특성과 엔트로피 특성을 모두 포함합니다\n",
    "    # 실제 선택된 특성에 따라 이 목록을 조정해야 합니다\n",
    "    column_types = {\n",
    "        'URL': 'text',\n",
    "        'label': 'categorical',\n",
    "        'digit_ratio': 'numerical',\n",
    "        'special_char_count': 'numerical',\n",
    "        'subdomain_count': 'numerical',\n",
    "        'length': 'numerical',\n",
    "        # 추가된 엔트로피 특성\n",
    "        'url_entropy': 'numerical',\n",
    "        'domain_entropy': 'numerical',\n",
    "        'path_entropy': 'numerical',\n",
    "        'query_entropy': 'numerical',\n",
    "        'subdomain_entropy': 'numerical',\n",
    "        'tld_entropy': 'numerical',\n",
    "        'main_domain_entropy': 'numerical'\n",
    "    }\n",
    "\n",
    "    # 실제 데이터셋에 있는 컬럼만 포함하도록 필터링\n",
    "    column_types = {col: type for col, type in column_types.items() if col in final_train.columns}\n",
    "\n",
    "    print(\"컬럼 타입 설정 성공.\")\n",
    "    print(f\"사용되는 컬럼: {list(column_types.keys())}\")\n",
    "except Exception as e:\n",
    "    print(\"컬럼 타입 설정 에러:\", e)\n",
    "    column_types = {}\n"
   ],
   "id": "44c5b533d26daceb"
  },
  {
   "metadata": {},
   "cell_type": "code",
   "outputs": [],
   "execution_count": null,
   "source": [
    "# train 데이터의 'label' 컬럼을 기준으로 클래스 가중치를 계산하고 정규화합니다.\n",
    "try:\n",
    "    weights = compute_class_weight(\n",
    "        class_weight='balanced',\n",
    "        classes=np.unique(final_train['label']),\n",
    "        y=final_train['label'].values\n",
    "    )\n",
    "    weights = weights / weights.sum()  # 가중치 정규화 (합계 1)\n",
    "    weights = list(weights)\n",
    "    print(\"\\n계산된 클래스 가중치:\", weights)\n",
    "except Exception as e:\n",
    "    print(\"클래스 가중치 계산 에러:\", e)\n",
    "    weights = []\n"
   ],
   "id": "df81bb5b23345f36"
  },
  {
   "metadata": {},
   "cell_type": "code",
   "outputs": [],
   "execution_count": null,
   "source": [
    "# AutoGluon MultiModalPredictor를 생성합니다.\n",
    "try:\n",
    "    predictor = MultiModalPredictor(\n",
    "        label='label',\n",
    "        problem_type='binary',\n",
    "        eval_metric='roc_auc',\n",
    "        validation_metric='roc_auc'\n",
    "    )\n",
    "    print(\"Predictor 생성 성공.\")\n",
    "except Exception as e:\n",
    "    print(\"MultiModalPredictor 생성 에러:\", e)\n",
    "    predictor = None\n"
   ],
   "id": "db9cecf2ad74f915"
  },
  {
   "metadata": {},
   "cell_type": "code",
   "outputs": [],
   "execution_count": null,
   "source": [
    "# train 데이터를 사용하여 모델을 학습시킵니다.\n",
    "try:\n",
    "    if predictor is not None:\n",
    "        predictor.fit(\n",
    "            train_data=final_train,\n",
    "            column_types=column_types,\n",
    "            presets='best_quality',\n",
    "            time_limit=None,\n",
    "            seed=42,\n",
    "            hyperparameters={\n",
    "                \"model.hf_text.checkpoint_name\": \"r3ddkahili/final-complete-malicious-url-model\",\n",
    "                \"env.per_gpu_batch_size\": 64,\n",
    "                \"optimization.patience\": 3,\n",
    "                \"optimization.loss_function\": \"focal_loss\",\n",
    "                \"optimization.focal_loss.alpha\": weights,\n",
    "            }\n",
    "        )\n",
    "        print(\"모델 학습 완료.\")\n",
    "\n",
    "        # 모델 저장\n",
    "        predictor.save('../../models/malicious_url_model_with_entropy')\n",
    "        print(\"모델 저장 완료.\")\n",
    "    else:\n",
    "        print(\"Predictor가 None입니다. 모델 학습 건너뜁니다.\")\n",
    "except Exception as e:\n",
    "    print(\"predictor.fit 실행 중 에러:\", e)\n"
   ],
   "id": "34ca9592a32ca28a"
  },
  {
   "metadata": {},
   "cell_type": "code",
   "outputs": [],
   "execution_count": null,
   "source": [
    "# 모델의 특성 중요도를 확인합니다.\n",
    "try:\n",
    "    if predictor is not None:\n",
    "        feature_importance = predictor.feature_importance(final_train)\n",
    "        if feature_importance is not None:\n",
    "            print(\"\\n특성 중요도:\")\n",
    "            print(feature_importance.sort_values(by='importance', ascending=False).head(10))\n",
    "\n",
    "            # 특성 중요도 저장\n",
    "            feature_importance.to_csv('../../data/feature_importance_with_entropy.csv')\n",
    "            print(\"특성 중요도 저장 완료.\")\n",
    "except Exception as e:\n",
    "    print(\"특성 중요도 분석 중 에러:\", e)\n"
   ],
   "id": "b24a26d1757aa49b"
  },
  {
   "metadata": {},
   "cell_type": "code",
   "outputs": [],
   "execution_count": null,
   "source": [
    "# 모델의 성능을 평가합니다.\n",
    "try:\n",
    "    if predictor is not None and 'label' in final_train.columns:\n",
    "        # 일부 데이터로 모델 평가\n",
    "        eval_data = final_train.sample(min(5000, len(final_train)), random_state=42)\n",
    "        eval_metrics = predictor.evaluate(eval_data)\n",
    "        print(\"\\n모델 평가 결과:\")\n",
    "        print(eval_metrics)\n",
    "except Exception as e:\n",
    "    print(\"모델 평가 중 에러:\", e)\n"
   ],
   "id": "d73c444e08206f98"
  },
  {
   "metadata": {},
   "cell_type": "code",
   "outputs": [],
   "execution_count": null,
   "source": [
    "# 학습된 모델을 사용하여 test 데이터에 대한 예측 확률을 계산합니다.\n",
    "try:\n",
    "    if predictor is not None:\n",
    "        test_pred_proba = predictor.predict_proba(final_test)\n",
    "        # 이진 분류의 경우, 클래스 1(악성 URL)의 확률 사용\n",
    "        if 1 in test_pred_proba.columns:\n",
    "            prediction_scores = test_pred_proba[1]\n",
    "        else:\n",
    "            prediction_scores = test_pred_proba.iloc[:, 1]\n",
    "        print(\"예측 완료.\")\n",
    "    else:\n",
    "        print(\"Predictor가 None입니다. 기본 0 예측값 사용.\")\n",
    "        prediction_scores = np.zeros(len(final_test))\n",
    "except Exception as e:\n",
    "    print(\"예측 실행 중 에러:\", e)\n",
    "    prediction_scores = np.zeros(len(final_test))\n"
   ],
   "id": "b2b95fd2b918e4e6"
  },
  {
   "metadata": {},
   "cell_type": "code",
   "outputs": [],
   "execution_count": null,
   "source": [
    "# 예측 결과를 기반으로 제출 파일을 생성합니다.\n",
    "try:\n",
    "    submission = pd.DataFrame({\n",
    "        'ID': final_test['ID'],\n",
    "        'probability': prediction_scores\n",
    "    })\n",
    "    submission.to_csv('./submission/FE_multimodal_with_entropy.csv', index=False)\n",
    "    print(\"\\n제출 파일 생성 완료.\")\n",
    "except Exception as e:\n",
    "    print(\"제출 파일 생성 에러:\", e)\n"
   ],
   "id": "1b77094ca5fb0ab6"
  },
  {
   "metadata": {},
   "cell_type": "code",
   "outputs": [],
   "execution_count": null,
   "source": [
    "# 엔트로피 특성의 효과를 분석합니다.\n",
    "try:\n",
    "    if 'label' in final_train.columns:\n",
    "        print(\"\\n엔트로피 특성과 라벨 간의 상관관계:\")\n",
    "        entropy_features = [col for col in final_train.columns if 'entropy' in col]\n",
    "\n",
    "        if entropy_features:\n",
    "            correlation = final_train[entropy_features + ['label']].corr()['label'].sort_values(ascending=False)\n",
    "            print(correlation)\n",
    "\n",
    "            # 엔트로피 특성과 라벨 간의 상관관계 저장\n",
    "            correlation_df = pd.DataFrame({'feature': correlation.index, 'correlation': correlation.values})\n",
    "            correlation_df.to_csv('../../data/entropy_features_correlation.csv', index=False)\n",
    "            print(\"엔트로피 특성 상관관계 저장 완료.\")\n",
    "except Exception as e:\n",
    "    print(\"엔트로피 특성 효과 분석 중 에러:\", e)"
   ],
   "id": "2378c40fb39b25d8"
  },
  {
   "metadata": {
    "ExecuteTime": {
     "end_time": "2025-02-27T13:37:12.476739Z",
     "start_time": "2025-02-27T13:37:11.253981Z"
    }
   },
   "cell_type": "code",
   "source": [
    "import torch\n",
    "\n",
    "# GPU 사용 가능 여부 체크\n",
    "if torch.cuda.is_available():\n",
    "    device = torch.device(\"cuda\")\n",
    "    print(\"GPU is available!\")\n",
    "    print(\"Number of GPUs:\", torch.cuda.device_count())\n",
    "    print(\"GPU Name:\", torch.cuda.get_device_name(0))\n",
    "    print(\"CUDA Version (PyTorch):\", torch.version.cuda)\n",
    "\n",
    "    # 간단한 연산을 GPU에서 실행해보기\n",
    "    a = torch.tensor([1.0, 2.0, 3.0], device=device)\n",
    "    b = torch.tensor([4.0, 5.0, 6.0], device=device)\n",
    "    c = a + b\n",
    "    print(\"Tensor a:\", a)\n",
    "    print(\"Tensor b:\", b)\n",
    "    print(\"Result (a + b):\", c)\n",
    "else:\n",
    "    print(\"GPU is not available.\")\n"
   ],
   "id": "97c1c2397e7dc02e",
   "outputs": [
    {
     "name": "stdout",
     "output_type": "stream",
     "text": [
      "GPU is available!\n",
      "Number of GPUs: 1\n",
      "GPU Name: NVIDIA GeForce RTX 4080 SUPER\n",
      "CUDA Version (PyTorch): 12.1\n",
      "Tensor a: tensor([1., 2., 3.], device='cuda:0')\n",
      "Tensor b: tensor([4., 5., 6.], device='cuda:0')\n",
      "Result (a + b): tensor([5., 7., 9.], device='cuda:0')\n"
     ]
    }
   ],
   "execution_count": 1
  },
  {
   "metadata": {},
   "cell_type": "code",
   "outputs": [],
   "execution_count": null,
   "source": "",
   "id": "dfcb09a7f1f1ecf3"
  }
 ],
 "metadata": {
  "kernelspec": {
   "name": "python3",
   "language": "python",
   "display_name": "Python 3 (ipykernel)"
  }
 },
 "nbformat": 5,
 "nbformat_minor": 9
}
