{
 "cells": [
  {
   "metadata": {
    "ExecuteTime": {
     "end_time": "2025-02-19T14:39:00.487879Z",
     "start_time": "2025-02-19T14:39:00.473722Z"
    }
   },
   "cell_type": "code",
   "source": [
    "import pandas as pd\n",
    "import numpy as np\n",
    "\n",
    "import seaborn as sns\n",
    "import matplotlib.pyplot as plt\n",
    "\n",
    "import warnings\n",
    "\n",
    "warnings.filterwarnings(action='ignore')\n"
   ],
   "id": "269d9d53f37de39d",
   "outputs": [],
   "execution_count": 1
  },
  {
   "metadata": {
    "ExecuteTime": {
     "end_time": "2025-02-19T14:40:02.472530Z",
     "start_time": "2025-02-19T14:39:58.094902Z"
    }
   },
   "cell_type": "code",
   "source": [
    "train = pd.read_csv('../../data/train.csv')\n",
    "test = pd.read_csv('../../data/test.csv')\n"
   ],
   "id": "ecca56024681fd0c",
   "outputs": [],
   "execution_count": 3
  },
  {
   "metadata": {
    "ExecuteTime": {
     "end_time": "2025-02-19T14:40:10.161224Z",
     "start_time": "2025-02-19T14:40:07.169818Z"
    }
   },
   "cell_type": "code",
   "source": [
    "# '[.]'을 '.'으로 복구\n",
    "train['URL'] = train['URL'].str.replace(r'\\[\\.\\]', '.', regex=True)\n",
    "test['URL'] = test['URL'].str.replace(r'\\[\\.\\]', '.', regex=True)\n"
   ],
   "id": "8fca4547c6447c9",
   "outputs": [],
   "execution_count": 4
  },
  {
   "metadata": {
    "ExecuteTime": {
     "end_time": "2025-02-19T14:41:06.989751Z",
     "start_time": "2025-02-19T14:40:23.904814Z"
    }
   },
   "cell_type": "code",
   "source": [
    "# URL 구조 세분화 전처리 과정 추가\n",
    "from urllib.parse import urlparse\n",
    "import tldextract\n",
    "\n",
    "\n",
    "def extract_url_features(df):\n",
    "    # URL 기본 구성요소 추출: scheme, netloc, path, params, query, fragment\n",
    "    parsed_urls = df['URL'].apply(urlparse)\n",
    "    df['scheme'] = parsed_urls.apply(lambda x: x.scheme)\n",
    "    df['netloc'] = parsed_urls.apply(lambda x: x.netloc)\n",
    "    df['path'] = parsed_urls.apply(lambda x: x.path)\n",
    "    df['params'] = parsed_urls.apply(lambda x: x.params)\n",
    "    df['query'] = parsed_urls.apply(lambda x: x.query)\n",
    "    df['fragment'] = parsed_urls.apply(lambda x: x.fragment)\n",
    "\n",
    "    # tldextract를 이용하여 도메인 세분화: 서브도메인, 도메인, TLD 추출\n",
    "    extracted = df['URL'].apply(tldextract.extract)\n",
    "    df['subdomain_text'] = extracted.apply(lambda x: x.subdomain)\n",
    "    df['domain_text'] = extracted.apply(lambda x: x.domain)\n",
    "    df['suffix_text'] = extracted.apply(lambda x: x.suffix)\n",
    "\n",
    "    # 추가 피처: 경로 내 세그먼트 개수, 쿼리 파라미터 개수\n",
    "    df['path_segment_count'] = df['path'].apply(lambda x: len([seg for seg in x.split('/') if seg]))\n",
    "    df['query_param_count'] = df['query'].apply(lambda x: len(x.split('&')) if x else 0)\n",
    "\n",
    "    return df\n",
    "\n",
    "\n",
    "# train, test 데이터에 URL 구조 세분화 적용\n",
    "train = extract_url_features(train)\n",
    "test = extract_url_features(test)\n"
   ],
   "id": "fae4ea012370560b",
   "outputs": [],
   "execution_count": 5
  },
  {
   "metadata": {
    "ExecuteTime": {
     "end_time": "2025-02-19T14:42:12.430897Z",
     "start_time": "2025-02-19T14:41:25.439794Z"
    }
   },
   "cell_type": "code",
   "source": [
    "## 새로운 변수 생성\n",
    "# URL 길이\n",
    "train['length'] = train['URL'].str.len()\n",
    "test['length'] = test['URL'].str.len()\n",
    "\n",
    "# 서브도메인 개수 (기존 방식)\n",
    "train['subdomain_count'] = train['URL'].str.split('.').apply(lambda x: len(x) - 2)\n",
    "test['subdomain_count'] = test['URL'].str.split('.').apply(lambda x: len(x) - 2)\n",
    "\n",
    "# 특수 문자('-', '_', '/') 개수\n",
    "train['special_char_count'] = train['URL'].apply(lambda x: sum(1 for c in x if c in '-_/'))\n",
    "test['special_char_count'] = test['URL'].apply(lambda x: sum(1 for c in x if c in '-_/'))\n",
    "\n",
    "# 디지털 문자 관련\n",
    "train['digit_count'] = train['URL'].str.count(r'\\d')\n",
    "test['digit_count'] = test['URL'].str.count(r'\\d')\n",
    "train['digit_ratio'] = train['digit_count'] / train['length']\n",
    "test['digit_ratio'] = test['digit_count'] / test['length']\n",
    "\n",
    "# 대문자 관련\n",
    "train['uppercase_count'] = train['URL'].str.count(r'[A-Z]')\n",
    "test['uppercase_count'] = test['URL'].str.count(r'[A-Z]')\n",
    "train['uppercase_ratio'] = train['uppercase_count'] / train['length']\n",
    "test['uppercase_ratio'] = test['uppercase_count'] / test['length']\n",
    "\n",
    "# 추가 특수문자\n",
    "train['abnormal_chars'] = train['URL'].str.count(r'[^a-zA-Z0-9\\-\\./_]')\n",
    "test['abnormal_chars'] = test['URL'].str.count(r'[^a-zA-Z0-9\\-\\./_]')\n",
    "train['dots_count'] = train['URL'].str.count(r'\\.')\n",
    "test['dots_count'] = test['URL'].str.count(r'\\.')\n",
    "\n",
    "# URL 구조 관련 기존 피처\n",
    "train['path_length'] = train['URL'].apply(lambda x: len(x.split('/')[-1]) if '/' in x else 0)\n",
    "test['path_length'] = test['URL'].apply(lambda x: len(x.split('/')[-1]) if '/' in x else 0)\n",
    "\n",
    "train['query_count'] = train['URL'].str.count(r'\\?')\n",
    "test['query_count'] = test['URL'].str.count(r'\\?')\n",
    "\n",
    "train['and_count'] = train['URL'].str.count(r'\\&')\n",
    "test['and_count'] = test['URL'].str.count(r'\\&')\n"
   ],
   "id": "9df528ee62f46c5",
   "outputs": [],
   "execution_count": 6
  },
  {
   "metadata": {
    "ExecuteTime": {
     "end_time": "2025-02-19T14:45:29.024599Z",
     "start_time": "2025-02-19T14:45:27.260554Z"
    }
   },
   "cell_type": "code",
   "source": [
    "# 상관계수 계산\n",
    "feature_cols = ['length', 'subdomain_count', 'special_char_count',\n",
    "                'digit_count', 'digit_ratio', 'uppercase_count', 'uppercase_ratio',\n",
    "                'abnormal_chars', 'dots_count', 'path_length', 'query_count', 'and_count']\n",
    "\n",
    "correlation_matrix = train[feature_cols + ['label']].corr()\n",
    "\n",
    "# label과의 상관관계 확인\n",
    "label_corr = correlation_matrix['label'].abs().sort_values(ascending=False)\n",
    "print(\"\\n특성과 label의 상관관계 (절대값 기준 내림차순):\")\n",
    "print(label_corr)\n"
   ],
   "id": "b244e3315f99f65b",
   "outputs": [
    {
     "name": "stdout",
     "output_type": "stream",
     "text": [
      "\n",
      "특성과 label의 상관관계 (절대값 기준 내림차순):\n",
      "label                 1.000000\n",
      "digit_ratio           0.363634\n",
      "special_char_count    0.356997\n",
      "dots_count            0.350023\n",
      "subdomain_count       0.350023\n",
      "length                0.326656\n",
      "digit_count           0.251722\n",
      "uppercase_ratio       0.241069\n",
      "path_length           0.230710\n",
      "query_count           0.216031\n",
      "and_count             0.119879\n",
      "uppercase_count       0.113967\n",
      "abnormal_chars        0.040008\n",
      "Name: label, dtype: float64\n"
     ]
    }
   ],
   "execution_count": 7
  },
  {
   "metadata": {
    "ExecuteTime": {
     "end_time": "2025-02-19T14:47:25.972719Z",
     "start_time": "2025-02-19T14:47:25.682359Z"
    }
   },
   "cell_type": "code",
   "source": [
    "# 상관계수 0.3 이상인 특성 선택\n",
    "selected_features = label_corr[label_corr >= 0.24].index.tolist()\n",
    "selected_features.remove('label')  # label 제외\n",
    "print(\"\\n선택된 특성:\", selected_features)\n",
    "\n",
    "# 최종 데이터셋 생성\n",
    "final_train = train[['ID', 'URL', 'label'] + selected_features]\n",
    "final_test = test[['ID', 'URL'] + selected_features]\n",
    "\n",
    "print(\"\\n최종 학습 데이터 shape:\", final_train.shape)\n",
    "print(\"최종 테스트 데이터 shape:\", final_test.shape)"
   ],
   "id": "f697b5ca450b9d12",
   "outputs": [
    {
     "name": "stdout",
     "output_type": "stream",
     "text": [
      "\n",
      "선택된 특성: ['digit_ratio', 'special_char_count', 'dots_count', 'subdomain_count', 'length', 'digit_count', 'uppercase_ratio']\n",
      "\n",
      "최종 학습 데이터 shape: (6995056, 10)\n",
      "최종 테스트 데이터 shape: (1747689, 9)\n"
     ]
    }
   ],
   "execution_count": 8
  },
  {
   "metadata": {},
   "cell_type": "code",
   "outputs": [],
   "execution_count": null,
   "source": [
    "final_train.to_csv('../data/preprocessed_data/sec_train.csv', index=False)\n",
    "final_test.to_csv('../data/preprocessed_data/sec_test.csv', index=False)\n"
   ],
   "id": "1dc168550a89439a"
  }
 ],
 "metadata": {
  "kernelspec": {
   "name": "python3",
   "language": "python",
   "display_name": "Python 3 (ipykernel)"
  }
 },
 "nbformat": 5,
 "nbformat_minor": 9
}
