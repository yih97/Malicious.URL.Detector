{
 "cells": [
  {
   "cell_type": "markdown",
   "id": "4ad0e82c-095a-41dd-a2ee-70e584857435",
   "metadata": {},
   "source": [
    "## 1. Import"
   ]
  },
  {
   "cell_type": "code",
   "execution_count": 3,
   "id": "b0919eeb-bbb3-48d4-ae3f-3dac6b370d95",
   "metadata": {},
   "outputs": [],
   "source": [
    "import pandas as pd\n",
    "import numpy as np\n",
    "from sklearn.model_selection import KFold\n",
    "from sklearn.metrics import roc_auc_score\n",
    "from xgboost import XGBClassifier\n",
    "\n",
    "import seaborn as sns\n",
    "import matplotlib.pyplot as plt\n",
    "\n",
    "import warnings\n",
    "warnings.filterwarnings(action='ignore')"
   ]
  },
  {
   "cell_type": "markdown",
   "id": "cd8b152b-c7a9-40f1-975a-516b764fcadd",
   "metadata": {},
   "source": [
    "## 2. Data Load"
   ]
  },
  {
   "cell_type": "code",
   "execution_count": 4,
   "id": "feed2e5f-fb44-4ec5-8546-711ee29221cd",
   "metadata": {},
   "outputs": [],
   "source": [
    "# 학습/평가 데이터 로드\n",
    "train_df = pd.read_csv('train.csv')\n",
    "test_df = pd.read_csv('test.csv')\n",
    "\n",
    "# '[.]'을 '.'으로 복구\n",
    "train_df['URL'] = train_df['URL'].str.replace(r'\\[\\.\\]', '.', regex=True)\n",
    "test_df['URL'] = test_df['URL'].str.replace(r'\\[\\.\\]', '.', regex=True)"
   ]
  },
  {
   "cell_type": "markdown",
   "id": "0db7bf1b-31ef-449f-a7e8-ab58d78f57e6",
   "metadata": {},
   "source": [
    "## 3. Feature-Engineering (FE)"
   ]
  },
  {
   "cell_type": "code",
   "execution_count": 5,
   "id": "ed1832a2-e920-46e2-a3df-0f6a53599d1b",
   "metadata": {},
   "outputs": [],
   "source": [
    "## 새로운 변수 생성\n",
    "# URL 길이\n",
    "train_df['length'] = train_df['URL'].str.len()\n",
    "test_df['length'] = test_df['URL'].str.len()\n",
    "\n",
    "# 서브도메인 개수\n",
    "train_df['subdomain_count'] = train_df['URL'].str.split('.').apply(lambda x: len(x) - 2)\n",
    "test_df['subdomain_count'] = test_df['URL'].str.split('.').apply(lambda x: len(x) - 2)\n",
    "\n",
    "# 특수 문자('-', '_', '/') 개수\n",
    "train_df['special_char_count'] = train_df['URL'].apply(lambda x: sum(1 for c in x if c in '-_/'))\n",
    "test_df['special_char_count'] = test_df['URL'].apply(lambda x: sum(1 for c in x if c in '-_/'))"
   ]
  },
  {
   "cell_type": "markdown",
   "id": "16987af4",
   "metadata": {},
   "source": [
    "### EDA "
   ]
  },
  {
   "cell_type": "code",
   "execution_count": null,
   "id": "fca9b22c",
   "metadata": {},
   "outputs": [],
   "source": [
    "## 악성 여부에 따른 분포 확인\n",
    "# 변수 목록\n",
    "variables = ['length', 'subdomain_count', 'special_char_count']\n",
    "\n",
    "# 박스플롯\n",
    "for var in variables:\n",
    "    plt.figure(figsize=(8, 5))\n",
    "    sns.boxplot(data=train_df, x='label', y=var)\n",
    "    plt.title(f\"Boxplot of {var} by is_malicious\")\n",
    "    plt.xlabel(\"is_malicious\")\n",
    "    plt.ylabel(var)\n",
    "    plt.xticks([0, 1], ['Non-Malicious', 'Malicious'])\n",
    "    plt.show()"
   ]
  },
  {
   "cell_type": "markdown",
   "id": "dcab0294",
   "metadata": {},
   "source": [
    "- 악성 URL은 정상 URL에 비해 평균적으로 더 긴 분포를 띄고 있음.\n",
    "- 악성 URL은 서브도메인의 길이가 더 길거나 서브도메인 수가 많은 경향이 있음.\n",
    "- 악성 URL은 정상 URL에 비해 특수문자의 개수가 많음."
   ]
  },
  {
   "cell_type": "markdown",
   "id": "03dfb4c3",
   "metadata": {},
   "source": [
    "### 상관 관계 분석"
   ]
  },
  {
   "cell_type": "code",
   "execution_count": null,
   "id": "dfd87b77",
   "metadata": {},
   "outputs": [],
   "source": [
    "# 상관계수 계산\n",
    "correlation_matrix = train_df[['length', 'subdomain_count', 'special_char_count', 'label']].corr()\n",
    "\n",
    "# 히트맵 시각화\n",
    "plt.figure(figsize=(8, 6))\n",
    "sns.heatmap(correlation_matrix, annot=True, fmt=\".2f\")\n",
    "plt.title(\"Correlation Matrix\")\n",
    "plt.show()"
   ]
  },
  {
   "cell_type": "markdown",
   "id": "9ce688f7",
   "metadata": {},
   "source": [
    "- 특수문자 개수와 악성 여부 간의 상관관계는 0.75로, 높은 양의 상관관계를 나타냄."
   ]
  },
  {
   "cell_type": "markdown",
   "id": "da914d70",
   "metadata": {},
   "source": [
    "-  EDA 결과에 따른 가설 설정 \n",
    "\n",
    "    1. URL의 길이가 길수록 악성 URL일 확률이 높을 것이다. -> 악성 URL은 난독화와 탐지 회피를 위해 길이가 긴 경우가 많다.\n",
    "    2. 서브도메인이 많을수록 악성 URL일 확률이 높을 것이다. -> 서브도메인은 피싱과 사용자 혼란을 유발하는 데 자주 활용된다.\n",
    "    3. 특수문자가 많을수록 악성 URL일 확률이 높을 것이다. -> 특수문자는 난독화와 위장 목적으로 사용된다.\n"
   ]
  },
  {
   "cell_type": "markdown",
   "id": "e3b0e69a-f09c-42d3-a263-72bde2fa77e0",
   "metadata": {},
   "source": [
    "## 4. Pre-processing (전처리)"
   ]
  },
  {
   "cell_type": "code",
   "execution_count": 8,
   "id": "7c070741-4532-4b3a-afc9-62ff99d2c3cc",
   "metadata": {},
   "outputs": [],
   "source": [
    "# 학습을 위한 학습 데이터의 피처와 라벨 준비\n",
    "X = train_df[['length', 'subdomain_count', 'special_char_count']]\n",
    "y = train_df['label']\n",
    "\n",
    "# 추론을 위한 평가 데이터의 피처 준비\n",
    "X_test = test_df[['length', 'subdomain_count', 'special_char_count']]"
   ]
  },
  {
   "cell_type": "markdown",
   "id": "87d5fe91-12bd-4467-81eb-530347ab14f2",
   "metadata": {},
   "source": [
    "## 5. K-Fold Model Training (모델 학습)"
   ]
  },
  {
   "cell_type": "code",
   "execution_count": null,
   "id": "11efa6b9-131e-475d-b1dd-9310c879505a",
   "metadata": {},
   "outputs": [],
   "source": [
    "# XGBoost 학습 및 모델 저장 (K-Fold)\n",
    "kf = KFold(n_splits=4, shuffle=True, random_state=42)\n",
    "models = []  # 모델을 저장할 리스트\n",
    "auc_scores = []\n",
    "\n",
    "for idx, (train_idx, val_idx) in enumerate(kf.split(X)):\n",
    "    X_train, X_val = X.iloc[train_idx], X.iloc[val_idx]\n",
    "    y_train, y_val = y.iloc[train_idx], y.iloc[val_idx]\n",
    "    \n",
    "    print('-'*40)\n",
    "    print(f'Fold {idx + 1} 번째 XGBoost 모델을 학습합니다.')\n",
    "    print('Epoch|         Train AUC             |         Validation AUC')\n",
    "    \n",
    "    # XGBoost 모델 학습\n",
    "    model = XGBClassifier(\n",
    "        n_estimators=100, \n",
    "        max_depth=6,       \n",
    "        learning_rate=0.1, \n",
    "        random_state=42,\n",
    "        use_label_encoder=False,  \n",
    "        eval_metric=\"auc\",        \n",
    "    )\n",
    "    \n",
    "    # 학습 및 Validation 성능 모니터링\n",
    "    eval_set = [(X_train, y_train), (X_val, y_val)]\n",
    "    model.fit(\n",
    "        X_train, y_train,\n",
    "        eval_set=eval_set,\n",
    "        verbose=True,  \n",
    "        early_stopping_rounds=5  \n",
    "    )\n",
    "    \n",
    "    models.append(model)  # 모델 저장\n",
    "    \n",
    "    # 검증 데이터 예측 및 ROC-AUC 계산\n",
    "    y_val_pred_prob = model.predict_proba(X_val)[:, 1]\n",
    "    auc = roc_auc_score(y_val, y_val_pred_prob)\n",
    "    print(f\"Fold {idx + 1} CV ROC-AUC: {auc:.4f}\")\n",
    "    print('-'*40)\n",
    "    auc_scores.append(auc)\n",
    "\n",
    "print(f\"K-Fold 평균 ROC-AUC: {np.mean(auc_scores):.4f}\")"
   ]
  },
  {
   "cell_type": "markdown",
   "id": "08f6a4a8-425a-4e51-a664-dc11a1c2f791",
   "metadata": {},
   "source": [
    "## 6. K-Fold Ensemble Inference (K-Fold 앙상블 추론)"
   ]
  },
  {
   "cell_type": "code",
   "execution_count": null,
   "id": "aa2b7f75-b22e-465f-a646-ce56d96303a7",
   "metadata": {},
   "outputs": [],
   "source": [
    "# 평가 데이터 추론\n",
    "# 각 Fold 별 모델의 예측 확률 계산\n",
    "test_probabilities = np.zeros(len(X_test)) \n",
    "\n",
    "for model in models:\n",
    "    test_probabilities += model.predict_proba(X_test)[:, 1]  # 악성 URL(1)일 확률 합산\n",
    "\n",
    "# Soft-Voting 앙상블 (Fold 별 모델들의 예측 확률 평균)\n",
    "test_probabilities /= len(models)\n",
    "print('Inference Done.')"
   ]
  },
  {
   "cell_type": "markdown",
   "id": "171c1744-9ae8-4d87-b545-e1b262fc5534",
   "metadata": {},
   "source": [
    "## 7. Submission (제출 파일 생성)"
   ]
  },
  {
   "cell_type": "code",
   "execution_count": null,
   "id": "a5052885-f65f-4fc7-9a53-4d8bdce39a58",
   "metadata": {},
   "outputs": [],
   "source": [
    "# 결과 저장\n",
    "test_df['probability'] = test_probabilities\n",
    "test_df[['ID', 'probability']].to_csv('./submission.csv', index=False)\n",
    "print('Done.')"
   ]
  }
 ],
 "metadata": {
  "kernelspec": {
   "display_name": "seohee3",
   "language": "python",
   "name": "python3"
  },
  "language_info": {
   "codemirror_mode": {
    "name": "ipython",
    "version": 3
   },
   "file_extension": ".py",
   "mimetype": "text/x-python",
   "name": "python",
   "nbconvert_exporter": "python",
   "pygments_lexer": "ipython3",
   "version": "3.8.13"
  }
 },
 "nbformat": 4,
 "nbformat_minor": 5
}
